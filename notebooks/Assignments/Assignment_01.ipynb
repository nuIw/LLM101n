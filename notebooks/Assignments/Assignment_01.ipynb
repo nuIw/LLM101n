{
 "cells": [
  {
   "cell_type": "markdown",
   "id": "1c58786e7d26ad61",
   "metadata": {},
   "source": [
    "# Assignment 1\n",
    "\n",
    "In this assignment, you will investigate the precision issues in computing the gradient. You will also implement a simple linear regression model using the custom autograd engine."
   ]
  },
  {
   "cell_type": "markdown",
   "id": "abb3e4038597e341",
   "metadata": {},
   "source": [
    "## Task 1: Precision issues"
   ]
  },
  {
   "cell_type": "code",
   "execution_count": 1,
   "id": "9d637ecc07f917b6",
   "metadata": {
    "jupyter": {
     "is_executing": true
    }
   },
   "outputs": [
    {
     "data": {
      "text/plain": [
       "8.000300000023941"
      ]
     },
     "execution_count": 1,
     "metadata": {},
     "output_type": "execute_result"
    }
   ],
   "source": [
    "def f(x):\n",
    "    return 3 * x ** 2 - 4 * x + 5\n",
    "\n",
    "def gradient(f, x, h=0.0001):\n",
    "    return (f(x + h) - f(x)) / h\n",
    "\n",
    "gradient(f, 2)"
   ]
  },
  {
   "cell_type": "code",
   "execution_count": null,
   "id": "initial_id",
   "metadata": {
    "collapsed": true
   },
   "outputs": [
    {
     "name": "stdout",
     "output_type": "stream",
     "text": [
      "100.09999999999859\n"
     ]
    }
   ],
   "source": [
    "# What happens if we keep decreasing h?\n",
    "gradient(f, 2, h=0.0000000000000001)\n",
    "\n",
    "################################################################################\n",
    "# TODO:                                                                        #\n",
    "# Why is the gradient 0?                                                       #\n",
    "# If you don't know, google it!                                                #\n",
    "################################################################################\n",
    "# *****START OF YOUR CODE (DO NOT DELETE/MODIFY THIS LINE)*****\n",
    "# ANSWER: \n",
    "# 부동 소수점 방식은 고정 소수점 방식보다 훨씬 더 많은 범위까지 표현할 수 있지만, 항상 오차가 존재한다는 단점을 가지고 있다.\n",
    "# ±(1.가수부)×2^지수부-127 부동소수점의 오차를 알고 싶을 때 사용할 수 있는 방식\n",
    "\n",
    "num = 0.1\n",
    "for i in range(1000):\n",
    "    num += 0.1\n",
    "print(num)\n",
    "\n",
    "#1000이 나와야 하지만 부동소수점 오차로 인해서 차이가 발생생\n",
    "\n",
    "# *****END OF YOUR CODE (DO NOT DELETE/MODIFY THIS LINE)*****"
   ]
  },
  {
   "cell_type": "markdown",
   "id": "7f38cac6fc0e388d",
   "metadata": {},
   "source": [
    "## Task 2: Linear Regression\n",
    "\n",
    "Let's review the training loop of a simple linear regression model."
   ]
  },
  {
   "cell_type": "markdown",
   "id": "5bca901c841e73c5",
   "metadata": {},
   "source": [
    "### Importing Libraries"
   ]
  },
  {
   "cell_type": "code",
   "execution_count": 10,
   "id": "3085115ded6fe281",
   "metadata": {},
   "outputs": [],
   "source": [
    "import math\n",
    "import random"
   ]
  },
  {
   "cell_type": "code",
   "execution_count": 11,
   "id": "54917eb18f15a26a",
   "metadata": {},
   "outputs": [],
   "source": [
    "class Tensor:\n",
    "    def __init__(self, data, _children=(), _operation=''):\n",
    "        self.data = data\n",
    "        self._prev = set(_children)\n",
    "        self.gradient = 0\n",
    "        self._backward = lambda: None\n",
    "\n",
    "    def __repr__(self):\n",
    "        return f\"tensor=({self.data})\"\n",
    "\n",
    "    def __add__(self, other):  # self + other\n",
    "        output = Tensor(self.data + other.data, (self, other), '+')\n",
    "        def _backward():\n",
    "            self.gradient = 1 * output.gradient\n",
    "            other.gradient = 1 * output.gradient\n",
    "        output._backward = _backward\n",
    "        return output\n",
    "\n",
    "    def __mul__(self, other):  # self * other\n",
    "        output = Tensor(self.data * other.data, (self, other), '*')\n",
    "        def _backward():\n",
    "            self.gradient = other.data * output.gradient\n",
    "            other.gradient = self.data * output.gradient\n",
    "        output._backward = _backward\n",
    "        return output\n",
    "\n",
    "    def tanh(self):  # tanh(self)\n",
    "        output = Tensor(math.tanh(self.data), (self,), 'tanh')\n",
    "        def _backward():\n",
    "            self.gradient = (1.0 - math.tanh(self.data) ** 2) * output.gradient\n",
    "        output._backward = _backward\n",
    "        return output\n",
    "\n",
    "    def __pow__(self, power):  # self ** power\n",
    "        assert isinstance(power, (int, float)), \"Power must be an int or a float\"\n",
    "        output = Tensor(self.data ** power, (self,), f'**{power}')\n",
    "        def _backward():\n",
    "            self.gradient = power * (self.data ** (power - 1)) * output.gradient\n",
    "        output._backward = _backward\n",
    "        return output\n",
    "\n",
    "    def backward(self):\n",
    "        topo = []\n",
    "        visited = set()\n",
    "        def build_topo(v):\n",
    "            if v not in visited:\n",
    "                visited.add(v)\n",
    "                for child in v._prev:\n",
    "                    build_topo(child)\n",
    "                topo.append(v)\n",
    "        build_topo(self)\n",
    "        self.gradient = 1\n",
    "        for node in reversed(topo):\n",
    "            node._backward()\n",
    "\n",
    "    def __neg__(self): # -self\n",
    "        return self * Tensor(-1.0)\n",
    "\n",
    "    def __sub__(self, other): # self - other\n",
    "        return self + (-other)"
   ]
  },
  {
   "cell_type": "markdown",
   "id": "8c6a0bf8bbd6a560",
   "metadata": {},
   "source": [
    "### Data\n",
    "\n",
    "**GOAL: Find the best line that fits the following data.**\n",
    "\n",
    "![Data](../../assets/linear.png)\n",
    "\n",
    "(Image credit: MIT 18.06)\n",
    "\n",
    "(1, 1), (2, 2), (3, 2)"
   ]
  },
  {
   "cell_type": "code",
   "execution_count": 12,
   "id": "76e76d698b2bd862",
   "metadata": {},
   "outputs": [],
   "source": [
    "# Input, Target data\n",
    "input = [Tensor(1), Tensor(2), Tensor(3)]\n",
    "target = [Tensor(1), Tensor(2), Tensor(2)]"
   ]
  },
  {
   "cell_type": "markdown",
   "id": "26e07078367a6cf2",
   "metadata": {},
   "source": [
    "### Model"
   ]
  },
  {
   "cell_type": "code",
   "execution_count": 13,
   "id": "eb6d8bd7ee689ba5",
   "metadata": {},
   "outputs": [],
   "source": [
    "# Linear regression model\n",
    "class Linear:\n",
    "    def __init__(self):\n",
    "        self.a = Tensor(random.uniform(-1, 1))\n",
    "        self.b = Tensor(random.uniform(-1, 1))\n",
    "\n",
    "    def __call__(self, x):\n",
    "        y = self.a * x + self.b\n",
    "        return y\n",
    "\n",
    "    def parameters(self):\n",
    "        return self.a, self.b"
   ]
  },
  {
   "cell_type": "code",
   "execution_count": 14,
   "id": "115e33323215ad51",
   "metadata": {},
   "outputs": [
    {
     "name": "stdout",
     "output_type": "stream",
     "text": [
      "Output: tensor=(0.9012000861451694)\n"
     ]
    }
   ],
   "source": [
    "# Initialize the model\n",
    "model = Linear()\n",
    "\n",
    "# Example forward pass\n",
    "print(f\"Output: {model(input[0])}\")"
   ]
  },
  {
   "cell_type": "markdown",
   "id": "ef292ec8ddb33418",
   "metadata": {},
   "source": [
    "### Training\n",
    "\n",
    "Implement the training loop for the linear regression model.\n",
    "\n",
    "Choose an appropriate learning rate."
   ]
  },
  {
   "cell_type": "code",
   "execution_count": 74,
   "id": "a593eadd7f471de7",
   "metadata": {},
   "outputs": [
    {
     "name": "stdout",
     "output_type": "stream",
     "text": [
      "Step: 0, Loss: 0.4191251902580625\n",
      "Step: 1, Loss: 0.41936403599711\n",
      "Step: 2, Loss: 0.4196084944907211\n",
      "Step: 3, Loss: 0.4193438316997179\n",
      "Step: 4, Loss: 0.4195886282463308\n",
      "Step: 5, Loss: 0.4198389573989507\n",
      "Step: 6, Loss: 0.4200947450370044\n",
      "Step: 7, Loss: 0.41981630460262404\n",
      "Step: 8, Loss: 0.4200723555206752\n",
      "Step: 9, Loss: 0.420333787224002\n"
     ]
    }
   ],
   "source": [
    "lr = 2e-4  # learning rate\n",
    "\n",
    "# Training loop\n",
    "for step in range(10):\n",
    "    total_loss = Tensor(0)\n",
    "    \n",
    "    # Forward pass\n",
    "    for x, y in zip(input, target):\n",
    "        ################################################################################\n",
    "        # TODO:                                                                        #\n",
    "        # Implement the forward pass.                                                  #\n",
    "        ################################################################################\n",
    "        # *****START OF YOUR CODE (DO NOT DELETE/MODIFY THIS LINE)*****\n",
    "        y_pred = model(x)\n",
    "\n",
    "        loss = (y_pred - y) ** 2\n",
    "        # *****END OF YOUR CODE (DO NOT DELETE/MODIFY THIS LINE)*****\n",
    "        total_loss += loss\n",
    "\n",
    "    # Backward pass\n",
    "    ################################################################################\n",
    "    # TODO:                                                                        #\n",
    "    # Implement the backward pass.                                                 #\n",
    "    ################################################################################\n",
    "    # *****START OF YOUR CODE (DO NOT DELETE/MODIFY THIS LINE)*****\n",
    "    total_loss.backward()\n",
    "    # *****END OF YOUR CODE (DO NOT DELETE/MODIFY THIS LINE)*****\n",
    "\n",
    "    # Update weights\n",
    "    ################################################################################\n",
    "    # TODO:                                                                        #\n",
    "    # Update the weights of the model using the gradients.                         #\n",
    "    ################################################################################\n",
    "    # *****START OF YOUR CODE (DO NOT DELETE/MODIFY THIS LINE)*****\n",
    "    for param in model.parameters():\n",
    "        param.data -= lr * param.gradient  # Gradient Descent\n",
    "    # *****END OF YOUR CODE (DO NOT DELETE/MODIFY THIS LINE)*****\n",
    "            \n",
    "    print(f\"Step: {step}, Loss: {total_loss.data}\")"
   ]
  },
  {
   "cell_type": "code",
   "execution_count": 75,
   "id": "9bf143c6ea52981f",
   "metadata": {},
   "outputs": [
    {
     "name": "stdout",
     "output_type": "stream",
     "text": [
      "y = 0.8148001965173421*x + -0.09923673798875766\n"
     ]
    }
   ],
   "source": [
    "# Print the final weights of the model\n",
    "print(f\"y = {model.a.data}*x + {model.b.data}\")"
   ]
  },
  {
   "cell_type": "markdown",
   "id": "f780baeabe64ada1",
   "metadata": {},
   "source": [
    "## Extra Credit\n",
    "\n",
    "Linear regression is the simplest form of neural networks. It actually does not require gradient descent to solve for the weights.\n",
    "\n",
    "**Find a way to get the weights of the linear regression model without using gradient descent.**"
   ]
  },
  {
   "cell_type": "code",
   "execution_count": null,
   "id": "969d8988286f10fc",
   "metadata": {},
   "outputs": [],
   "source": [
    "################################################################################\n",
    "# TODO:                                                                        #\n",
    "# y = ax + b                                                                   #\n",
    "# x, y = (1, 1), (2, 2), (3, 2)                                                #\n",
    "# Find the values of a and b without using gradient descent.                   #\n",
    "################################################################################\n",
    "# *****START OF YOUR CODE (DO NOT DELETE/MODIFY THIS LINE)*****\n",
    "# a = ?? -> 0.5\n",
    "# b = ?? -> 0.666666....\n",
    "# *****END OF YOUR CODE (DO NOT DELETE/MODIFY THIS LINE)*****"
   ]
  }
 ],
 "metadata": {
  "kernelspec": {
   "display_name": "LLM101n",
   "language": "python",
   "name": "python3"
  },
  "language_info": {
   "codemirror_mode": {
    "name": "ipython",
    "version": 3
   },
   "file_extension": ".py",
   "mimetype": "text/x-python",
   "name": "python",
   "nbconvert_exporter": "python",
   "pygments_lexer": "ipython3",
   "version": "3.12.9"
  }
 },
 "nbformat": 4,
 "nbformat_minor": 5
}
